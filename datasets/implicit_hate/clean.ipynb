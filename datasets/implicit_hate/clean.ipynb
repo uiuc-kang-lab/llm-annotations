{
 "cells": [
  {
   "cell_type": "code",
   "execution_count": null,
   "metadata": {},
   "outputs": [],
   "source": [
    "import pandas as pd"
   ]
  },
  {
   "cell_type": "code",
   "execution_count": null,
   "metadata": {},
   "outputs": [],
   "source": [
    "file_path = '/Users/zacharylee/TestTest/llm-annotations/datasets/implicit_hate/answer-chatgpt'  # Adjust the file path as needed\n",
    "df = pd.read_csv(file_path)"
   ]
  },
  {
   "cell_type": "code",
   "execution_count": null,
   "metadata": {},
   "outputs": [
    {
     "data": {
      "text/plain": [
       "        28\\tincitement\\tB:\\t75%\n",
       "0  29\\twhite_grievance\\tE:\\t75%\n",
       "1  30\\twhite_grievance\\tE:\\t75%\n",
       "2       31\\tincitement\\tF:\\t75%\n",
       "3    32\\tstereotypical\\tC:\\t85%\n",
       "4  33\\twhite_grievance\\tE:\\t75%\n"
      ]
     },
     "metadata": {},
     "output_type": "display_data"
    }
   ],
   "source": [
    "print(df.head())"
   ]
  },
  {
   "cell_type": "code",
   "execution_count": null,
   "metadata": {},
   "outputs": [],
   "source": [
    "category_mapping = {\n",
    "    'A': 'white grievance',\n",
    "    'B': 'incitement',\n",
    "    'C': 'inferiority',\n",
    "    'D': 'irony',\n",
    "    'E': 'stereotypical',\n",
    "    'F': 'threatening'\n",
    "}"
   ]
  },
  {
   "cell_type": "code",
   "execution_count": null,
   "metadata": {},
   "outputs": [],
   "source": [
    "# Function to map the gold label letters to their respective categories\n",
    "def map_labels(label):\n",
    "    if pd.isnull(label):\n",
    "        return None  # Handle NaN values\n",
    "    \n",
    "    labels = label.split(',')  # Split if there are multiple labels\n",
    "    categories = [category_mapping.get(l.strip(), l.strip()) for l in labels]  # Map each label to its corresponding category\n",
    "    return ', '.join(categories)  # Join the mapped categories into a single string"
   ]
  },
  {
   "cell_type": "code",
   "execution_count": null,
   "metadata": {},
   "outputs": [
    {
     "data": {
      "text/plain": [
       "Traceback (most recent call last):\n",
       "  File \"/opt/anaconda3/lib/python3.12/site-packages/pandas/core/indexes/base.py\", line 3805, in get_loc\n",
       "    return self._engine.get_loc(casted_key)\n",
       "           ^^^^^^^^^^^^^^^^^^^^^^^^^^^^^^^^\n",
       "  File \"index.pyx\", line 167, in pandas._libs.index.IndexEngine.get_loc\n",
       "  File \"index.pyx\", line 196, in pandas._libs.index.IndexEngine.get_loc\n",
       "  File \"pandas/_libs/hashtable_class_helper.pxi\", line 7081, in pandas._libs.hashtable.PyObjectHashTable.get_item\n",
       "  File \"pandas/_libs/hashtable_class_helper.pxi\", line 7089, in pandas._libs.hashtable.PyObjectHashTable.get_item\n",
       "KeyError: 'gold_label'\n",
       "\n",
       "The above exception was the direct cause of the following exception:\n",
       "\n",
       "Traceback (most recent call last):\n",
       "  File \"/Users/zacharylee/.vscode/extensions/ms-python.python-2025.0.0-darwin-arm64/python_files/python_server.py\", line 133, in exec_user_input\n",
       "    retval = callable_(user_input, user_globals)\n",
       "             ^^^^^^^^^^^^^^^^^^^^^^^^^^^^^^^^^^^\n",
       "  File \"<string>\", line 2, in <module>\n",
       "  File \"/opt/anaconda3/lib/python3.12/site-packages/pandas/core/frame.py\", line 4102, in __getitem__\n",
       "    indexer = self.columns.get_loc(key)\n",
       "              ^^^^^^^^^^^^^^^^^^^^^^^^^\n",
       "  File \"/opt/anaconda3/lib/python3.12/site-packages/pandas/core/indexes/base.py\", line 3812, in get_loc\n",
       "    raise KeyError(key) from err\n",
       "KeyError: 'gold_label'\n",
       "\n"
      ]
     },
     "metadata": {},
     "output_type": "display_data"
    }
   ],
   "source": [
    "# Apply the mapping to the 'gold_label' and 'gpt_result' columns\n",
    "df['gold_label_mapped'] = df['gold_label'].apply(map_labels)\n",
    "df['gpt_result_mapped'] = df['gpt_result'].apply(map_labels)"
   ]
  }
 ],
 "metadata": {
  "kernelspec": {
   "display_name": "llm-annotation",
   "language": "python",
   "name": "python3"
  },
  "language_info": {
   "codemirror_mode": {
    "name": "ipython",
    "version": 3
   },
   "file_extension": ".py",
   "mimetype": "text/x-python",
   "name": "python",
   "nbconvert_exporter": "python",
   "pygments_lexer": "ipython3",
   "version": "3.11.10"
  }
 },
 "nbformat": 4,
 "nbformat_minor": 2
}
