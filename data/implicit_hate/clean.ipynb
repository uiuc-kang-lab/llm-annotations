{
 "cells": [
  {
   "cell_type": "code",
   "execution_count": 42,
   "metadata": {},
   "outputs": [
    {
     "data": {
      "text/html": [
       "<div>\n",
       "<style scoped>\n",
       "    .dataframe tbody tr th:only-of-type {\n",
       "        vertical-align: middle;\n",
       "    }\n",
       "\n",
       "    .dataframe tbody tr th {\n",
       "        vertical-align: top;\n",
       "    }\n",
       "\n",
       "    .dataframe thead th {\n",
       "        text-align: right;\n",
       "    }\n",
       "</style>\n",
       "<table border=\"1\" class=\"dataframe\">\n",
       "  <thead>\n",
       "    <tr style=\"text-align: right;\">\n",
       "      <th></th>\n",
       "      <th>id</th>\n",
       "      <th>gold_label</th>\n",
       "      <th>gpt_result</th>\n",
       "      <th>gpt_label</th>\n",
       "    </tr>\n",
       "  </thead>\n",
       "  <tbody>\n",
       "    <tr>\n",
       "      <th>0</th>\n",
       "      <td>0</td>\n",
       "      <td>incitement</td>\n",
       "      <td>A</td>\n",
       "      <td>white_grievance</td>\n",
       "    </tr>\n",
       "    <tr>\n",
       "      <th>1</th>\n",
       "      <td>1</td>\n",
       "      <td>incitement</td>\n",
       "      <td>B</td>\n",
       "      <td>incitement</td>\n",
       "    </tr>\n",
       "    <tr>\n",
       "      <th>2</th>\n",
       "      <td>2</td>\n",
       "      <td>incitement</td>\n",
       "      <td>B</td>\n",
       "      <td>incitement</td>\n",
       "    </tr>\n",
       "    <tr>\n",
       "      <th>3</th>\n",
       "      <td>3</td>\n",
       "      <td>incitement</td>\n",
       "      <td>E</td>\n",
       "      <td>stereotypical</td>\n",
       "    </tr>\n",
       "    <tr>\n",
       "      <th>4</th>\n",
       "      <td>4</td>\n",
       "      <td>incitement</td>\n",
       "      <td>E</td>\n",
       "      <td>stereotypical</td>\n",
       "    </tr>\n",
       "    <tr>\n",
       "      <th>5</th>\n",
       "      <td>5</td>\n",
       "      <td>incitement</td>\n",
       "      <td>A</td>\n",
       "      <td>white_grievance</td>\n",
       "    </tr>\n",
       "    <tr>\n",
       "      <th>6</th>\n",
       "      <td>6</td>\n",
       "      <td>incitement</td>\n",
       "      <td>E</td>\n",
       "      <td>stereotypical</td>\n",
       "    </tr>\n",
       "    <tr>\n",
       "      <th>7</th>\n",
       "      <td>7</td>\n",
       "      <td>incitement</td>\n",
       "      <td>E</td>\n",
       "      <td>stereotypical</td>\n",
       "    </tr>\n",
       "    <tr>\n",
       "      <th>8</th>\n",
       "      <td>8</td>\n",
       "      <td>incitement</td>\n",
       "      <td>F</td>\n",
       "      <td>threatening</td>\n",
       "    </tr>\n",
       "    <tr>\n",
       "      <th>9</th>\n",
       "      <td>9</td>\n",
       "      <td>incitement</td>\n",
       "      <td>C</td>\n",
       "      <td>inferiority</td>\n",
       "    </tr>\n",
       "  </tbody>\n",
       "</table>\n",
       "</div>"
      ],
      "text/plain": [
       "   id  gold_label gpt_result        gpt_label\n",
       "0   0  incitement          A  white_grievance\n",
       "1   1  incitement          B       incitement\n",
       "2   2  incitement          B       incitement\n",
       "3   3  incitement          E    stereotypical\n",
       "4   4  incitement          E    stereotypical\n",
       "5   5  incitement          A  white_grievance\n",
       "6   6  incitement          E    stereotypical\n",
       "7   7  incitement          E    stereotypical\n",
       "8   8  incitement          F      threatening\n",
       "9   9  incitement          C      inferiority"
      ]
     },
     "execution_count": 42,
     "metadata": {},
     "output_type": "execute_result"
    }
   ],
   "source": [
    "import json\n",
    "import pandas as pd\n",
    "data = pd.read_csv(\"answer-chatgpt\", delimiter=\"\\t\", names=[\"id\", \"gold_label\", \"gpt_result\"])\n",
    "label_mapping = {\n",
    "    \"A\": \"white_grievance\",\n",
    "    \"B\": \"incitement\",\n",
    "    \"C\": \"inferiority\",\n",
    "    \"D\": \"irony\",\n",
    "    \"E\": \"stereotypical\",\n",
    "    \"F\": \"threatening\"\n",
    "}\n",
    "data[\"gpt_label\"] = data[\"gpt_result\"].map(lambda x: label_mapping[x])\n",
    "data.head(10)"
   ]
  },
  {
   "cell_type": "code",
   "execution_count": 44,
   "metadata": {},
   "outputs": [
    {
     "data": {
      "text/plain": [
       "148"
      ]
     },
     "execution_count": 44,
     "metadata": {},
     "output_type": "execute_result"
    }
   ],
   "source": [
    "(data[\"gold_label\"] == data[\"gpt_label\"]).sum()"
   ]
  },
  {
   "cell_type": "code",
   "execution_count": 47,
   "metadata": {},
   "outputs": [],
   "source": [
    "data.to_csv(\"data.csv\", index=False)"
   ]
  }
 ],
 "metadata": {
  "kernelspec": {
   "display_name": "llm-annotation",
   "language": "python",
   "name": "python3"
  },
  "language_info": {
   "codemirror_mode": {
    "name": "ipython",
    "version": 3
   },
   "file_extension": ".py",
   "mimetype": "text/x-python",
   "name": "python",
   "nbconvert_exporter": "python",
   "pygments_lexer": "ipython3",
   "version": "3.11.10"
  }
 },
 "nbformat": 4,
 "nbformat_minor": 2
}
